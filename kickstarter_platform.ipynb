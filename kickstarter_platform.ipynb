{
 "cells": [
  {
   "cell_type": "markdown",
   "id": "42948d8e",
   "metadata": {},
   "source": [
    "# 1. Perkenalan"
   ]
  },
  {
   "cell_type": "markdown",
   "id": "6bb23408",
   "metadata": {},
   "source": [
    "#### 1.1 Gambaran Data\n",
    "\n",
    "Data didapatkan dan dikumpulkan dari Kickstarter Platform dan dapat digunakan untuk analisis proyek. \n",
    "\n",
    "seluruh column memiliki deskripsi sama seperti artinya, kecuali:\n",
    "\n",
    "* usd_pledged: konversi dalam dolar AS dari the pledged column (konversi dilakukan oleh kickstarter).\n",
    "* usd_pledge_real: konversi dalam dolar AS dari the pledged column (konversi dari Fixer.io API).\n",
    "* usd_goal_real: konversi dalam dolar AS dari the goal column (konversi dari Fixer.io API)."
   ]
  },
  {
   "cell_type": "markdown",
   "id": "2ad4832c",
   "metadata": {},
   "source": [
    "#### 1.2 Sumber Data\n",
    "\n",
    "Dataset asli berasal dari kaggle dengan link: https://www.kaggle.com/kemical/kickstarter-projects?select=ks-projects-201801.csv"
   ]
  },
  {
   "cell_type": "markdown",
   "id": "662e1e90",
   "metadata": {},
   "source": [
    "#### 1.3 Objective\n",
    "\n",
    "Melakukan analisa terhadap dataset apakah ada hubungan antara Jumlah yang dijanjikan dalam mata uang proyek (variabel usd pledged) dengan statement yang berkaitan dengan keberhasilan peluncuran produk (variabel state)"
   ]
  },
  {
   "cell_type": "markdown",
   "id": "bf381332",
   "metadata": {},
   "source": [
    "# 2. Import Pustaka"
   ]
  },
  {
   "cell_type": "code",
   "execution_count": 1,
   "id": "ecdd477d",
   "metadata": {},
   "outputs": [],
   "source": [
    "import pandas as pd\n",
    "import numpy as np\n",
    "from scipy import stats\n",
    "from scipy.stats import chi2\n",
    "import matplotlib.pyplot as plt\n",
    "import seaborn as sns\n",
    "\n",
    "%matplotlib inline"
   ]
  },
  {
   "cell_type": "markdown",
   "id": "782cfe56",
   "metadata": {},
   "source": [
    "# 3. Data Loading"
   ]
  },
  {
   "cell_type": "markdown",
   "id": "098ea47b",
   "metadata": {},
   "source": [
    "#### 3.1 Loading dataset"
   ]
  },
  {
   "cell_type": "code",
   "execution_count": 2,
   "id": "8598de97",
   "metadata": {},
   "outputs": [],
   "source": [
    "data = pd.read_csv('ks-projects-201801.csv')"
   ]
  },
  {
   "cell_type": "markdown",
   "id": "dc2afcea",
   "metadata": {},
   "source": [
    "#### 3.2  Melihat 5 data teratas"
   ]
  },
  {
   "cell_type": "code",
   "execution_count": 3,
   "id": "a61185d1",
   "metadata": {},
   "outputs": [
    {
     "data": {
      "text/html": [
       "<div>\n",
       "<style scoped>\n",
       "    .dataframe tbody tr th:only-of-type {\n",
       "        vertical-align: middle;\n",
       "    }\n",
       "\n",
       "    .dataframe tbody tr th {\n",
       "        vertical-align: top;\n",
       "    }\n",
       "\n",
       "    .dataframe thead th {\n",
       "        text-align: right;\n",
       "    }\n",
       "</style>\n",
       "<table border=\"1\" class=\"dataframe\">\n",
       "  <thead>\n",
       "    <tr style=\"text-align: right;\">\n",
       "      <th></th>\n",
       "      <th>ID</th>\n",
       "      <th>name</th>\n",
       "      <th>category</th>\n",
       "      <th>main_category</th>\n",
       "      <th>currency</th>\n",
       "      <th>deadline</th>\n",
       "      <th>goal</th>\n",
       "      <th>launched</th>\n",
       "      <th>pledged</th>\n",
       "      <th>state</th>\n",
       "      <th>backers</th>\n",
       "      <th>country</th>\n",
       "      <th>usd pledged</th>\n",
       "      <th>usd_pledged_real</th>\n",
       "      <th>usd_goal_real</th>\n",
       "    </tr>\n",
       "  </thead>\n",
       "  <tbody>\n",
       "    <tr>\n",
       "      <th>0</th>\n",
       "      <td>1000002330</td>\n",
       "      <td>The Songs of Adelaide &amp; Abullah</td>\n",
       "      <td>Poetry</td>\n",
       "      <td>Publishing</td>\n",
       "      <td>GBP</td>\n",
       "      <td>2015-10-09</td>\n",
       "      <td>1000.0</td>\n",
       "      <td>2015-08-11 12:12:28</td>\n",
       "      <td>0.0</td>\n",
       "      <td>failed</td>\n",
       "      <td>0</td>\n",
       "      <td>GB</td>\n",
       "      <td>0.0</td>\n",
       "      <td>0.0</td>\n",
       "      <td>1533.95</td>\n",
       "    </tr>\n",
       "    <tr>\n",
       "      <th>1</th>\n",
       "      <td>1000003930</td>\n",
       "      <td>Greeting From Earth: ZGAC Arts Capsule For ET</td>\n",
       "      <td>Narrative Film</td>\n",
       "      <td>Film &amp; Video</td>\n",
       "      <td>USD</td>\n",
       "      <td>2017-11-01</td>\n",
       "      <td>30000.0</td>\n",
       "      <td>2017-09-02 04:43:57</td>\n",
       "      <td>2421.0</td>\n",
       "      <td>failed</td>\n",
       "      <td>15</td>\n",
       "      <td>US</td>\n",
       "      <td>100.0</td>\n",
       "      <td>2421.0</td>\n",
       "      <td>30000.00</td>\n",
       "    </tr>\n",
       "    <tr>\n",
       "      <th>2</th>\n",
       "      <td>1000004038</td>\n",
       "      <td>Where is Hank?</td>\n",
       "      <td>Narrative Film</td>\n",
       "      <td>Film &amp; Video</td>\n",
       "      <td>USD</td>\n",
       "      <td>2013-02-26</td>\n",
       "      <td>45000.0</td>\n",
       "      <td>2013-01-12 00:20:50</td>\n",
       "      <td>220.0</td>\n",
       "      <td>failed</td>\n",
       "      <td>3</td>\n",
       "      <td>US</td>\n",
       "      <td>220.0</td>\n",
       "      <td>220.0</td>\n",
       "      <td>45000.00</td>\n",
       "    </tr>\n",
       "    <tr>\n",
       "      <th>3</th>\n",
       "      <td>1000007540</td>\n",
       "      <td>ToshiCapital Rekordz Needs Help to Complete Album</td>\n",
       "      <td>Music</td>\n",
       "      <td>Music</td>\n",
       "      <td>USD</td>\n",
       "      <td>2012-04-16</td>\n",
       "      <td>5000.0</td>\n",
       "      <td>2012-03-17 03:24:11</td>\n",
       "      <td>1.0</td>\n",
       "      <td>failed</td>\n",
       "      <td>1</td>\n",
       "      <td>US</td>\n",
       "      <td>1.0</td>\n",
       "      <td>1.0</td>\n",
       "      <td>5000.00</td>\n",
       "    </tr>\n",
       "    <tr>\n",
       "      <th>4</th>\n",
       "      <td>1000011046</td>\n",
       "      <td>Community Film Project: The Art of Neighborhoo...</td>\n",
       "      <td>Film &amp; Video</td>\n",
       "      <td>Film &amp; Video</td>\n",
       "      <td>USD</td>\n",
       "      <td>2015-08-29</td>\n",
       "      <td>19500.0</td>\n",
       "      <td>2015-07-04 08:35:03</td>\n",
       "      <td>1283.0</td>\n",
       "      <td>canceled</td>\n",
       "      <td>14</td>\n",
       "      <td>US</td>\n",
       "      <td>1283.0</td>\n",
       "      <td>1283.0</td>\n",
       "      <td>19500.00</td>\n",
       "    </tr>\n",
       "  </tbody>\n",
       "</table>\n",
       "</div>"
      ],
      "text/plain": [
       "           ID                                               name  \\\n",
       "0  1000002330                    The Songs of Adelaide & Abullah   \n",
       "1  1000003930      Greeting From Earth: ZGAC Arts Capsule For ET   \n",
       "2  1000004038                                     Where is Hank?   \n",
       "3  1000007540  ToshiCapital Rekordz Needs Help to Complete Album   \n",
       "4  1000011046  Community Film Project: The Art of Neighborhoo...   \n",
       "\n",
       "         category main_category currency    deadline     goal  \\\n",
       "0          Poetry    Publishing      GBP  2015-10-09   1000.0   \n",
       "1  Narrative Film  Film & Video      USD  2017-11-01  30000.0   \n",
       "2  Narrative Film  Film & Video      USD  2013-02-26  45000.0   \n",
       "3           Music         Music      USD  2012-04-16   5000.0   \n",
       "4    Film & Video  Film & Video      USD  2015-08-29  19500.0   \n",
       "\n",
       "              launched  pledged     state  backers country  usd pledged  \\\n",
       "0  2015-08-11 12:12:28      0.0    failed        0      GB          0.0   \n",
       "1  2017-09-02 04:43:57   2421.0    failed       15      US        100.0   \n",
       "2  2013-01-12 00:20:50    220.0    failed        3      US        220.0   \n",
       "3  2012-03-17 03:24:11      1.0    failed        1      US          1.0   \n",
       "4  2015-07-04 08:35:03   1283.0  canceled       14      US       1283.0   \n",
       "\n",
       "   usd_pledged_real  usd_goal_real  \n",
       "0               0.0        1533.95  \n",
       "1            2421.0       30000.00  \n",
       "2             220.0       45000.00  \n",
       "3               1.0        5000.00  \n",
       "4            1283.0       19500.00  "
      ]
     },
     "execution_count": 3,
     "metadata": {},
     "output_type": "execute_result"
    }
   ],
   "source": [
    "data.head()"
   ]
  },
  {
   "cell_type": "markdown",
   "id": "16ea601a",
   "metadata": {},
   "source": [
    "#### 3.3 Melihat jumlah rows dan columns dataset"
   ]
  },
  {
   "cell_type": "code",
   "execution_count": 4,
   "id": "89620588",
   "metadata": {},
   "outputs": [
    {
     "data": {
      "text/plain": [
       "(378661, 15)"
      ]
     },
     "execution_count": 4,
     "metadata": {},
     "output_type": "execute_result"
    }
   ],
   "source": [
    "data.shape"
   ]
  },
  {
   "cell_type": "markdown",
   "id": "c0c3cc1f",
   "metadata": {},
   "source": [
    "#### 3.4 Melihat informasi yang terdapat didalam dataset"
   ]
  },
  {
   "cell_type": "code",
   "execution_count": 5,
   "id": "056cfd96",
   "metadata": {},
   "outputs": [
    {
     "name": "stdout",
     "output_type": "stream",
     "text": [
      "<class 'pandas.core.frame.DataFrame'>\n",
      "RangeIndex: 378661 entries, 0 to 378660\n",
      "Data columns (total 15 columns):\n",
      " #   Column            Non-Null Count   Dtype  \n",
      "---  ------            --------------   -----  \n",
      " 0   ID                378661 non-null  int64  \n",
      " 1   name              378657 non-null  object \n",
      " 2   category          378661 non-null  object \n",
      " 3   main_category     378661 non-null  object \n",
      " 4   currency          378661 non-null  object \n",
      " 5   deadline          378661 non-null  object \n",
      " 6   goal              378661 non-null  float64\n",
      " 7   launched          378661 non-null  object \n",
      " 8   pledged           378661 non-null  float64\n",
      " 9   state             378661 non-null  object \n",
      " 10  backers           378661 non-null  int64  \n",
      " 11  country           378661 non-null  object \n",
      " 12  usd pledged       374864 non-null  float64\n",
      " 13  usd_pledged_real  378661 non-null  float64\n",
      " 14  usd_goal_real     378661 non-null  float64\n",
      "dtypes: float64(5), int64(2), object(8)\n",
      "memory usage: 43.3+ MB\n"
     ]
    }
   ],
   "source": [
    "data.info()"
   ]
  },
  {
   "cell_type": "markdown",
   "id": "d7abfe6e",
   "metadata": {},
   "source": [
    "#### 3.5 Melihat columns dataset"
   ]
  },
  {
   "cell_type": "code",
   "execution_count": 6,
   "id": "08f76882",
   "metadata": {},
   "outputs": [
    {
     "data": {
      "text/plain": [
       "Index(['ID', 'name', 'category', 'main_category', 'currency', 'deadline',\n",
       "       'goal', 'launched', 'pledged', 'state', 'backers', 'country',\n",
       "       'usd pledged', 'usd_pledged_real', 'usd_goal_real'],\n",
       "      dtype='object')"
      ]
     },
     "execution_count": 6,
     "metadata": {},
     "output_type": "execute_result"
    }
   ],
   "source": [
    "data.columns"
   ]
  },
  {
   "cell_type": "markdown",
   "id": "63dc3d57",
   "metadata": {},
   "source": [
    "#### 3.6 melihat missing data dari dataset"
   ]
  },
  {
   "cell_type": "code",
   "execution_count": 7,
   "id": "f684b64a",
   "metadata": {},
   "outputs": [
    {
     "data": {
      "text/plain": [
       "ID                     0\n",
       "name                   4\n",
       "category               0\n",
       "main_category          0\n",
       "currency               0\n",
       "deadline               0\n",
       "goal                   0\n",
       "launched               0\n",
       "pledged                0\n",
       "state                  0\n",
       "backers                0\n",
       "country                0\n",
       "usd pledged         3797\n",
       "usd_pledged_real       0\n",
       "usd_goal_real          0\n",
       "dtype: int64"
      ]
     },
     "execution_count": 7,
     "metadata": {},
     "output_type": "execute_result"
    }
   ],
   "source": [
    "data.isna().sum()"
   ]
  },
  {
   "cell_type": "markdown",
   "id": "f77f611b",
   "metadata": {},
   "source": [
    "#### 3.7 Melihat statistic dari dataset"
   ]
  },
  {
   "cell_type": "code",
   "execution_count": 8,
   "id": "20ccb87f",
   "metadata": {},
   "outputs": [
    {
     "data": {
      "text/html": [
       "<div>\n",
       "<style scoped>\n",
       "    .dataframe tbody tr th:only-of-type {\n",
       "        vertical-align: middle;\n",
       "    }\n",
       "\n",
       "    .dataframe tbody tr th {\n",
       "        vertical-align: top;\n",
       "    }\n",
       "\n",
       "    .dataframe thead th {\n",
       "        text-align: right;\n",
       "    }\n",
       "</style>\n",
       "<table border=\"1\" class=\"dataframe\">\n",
       "  <thead>\n",
       "    <tr style=\"text-align: right;\">\n",
       "      <th></th>\n",
       "      <th>ID</th>\n",
       "      <th>goal</th>\n",
       "      <th>pledged</th>\n",
       "      <th>backers</th>\n",
       "      <th>usd pledged</th>\n",
       "      <th>usd_pledged_real</th>\n",
       "      <th>usd_goal_real</th>\n",
       "    </tr>\n",
       "  </thead>\n",
       "  <tbody>\n",
       "    <tr>\n",
       "      <th>count</th>\n",
       "      <td>3.786610e+05</td>\n",
       "      <td>3.786610e+05</td>\n",
       "      <td>3.786610e+05</td>\n",
       "      <td>378661.000000</td>\n",
       "      <td>3.748640e+05</td>\n",
       "      <td>3.786610e+05</td>\n",
       "      <td>3.786610e+05</td>\n",
       "    </tr>\n",
       "    <tr>\n",
       "      <th>mean</th>\n",
       "      <td>1.074731e+09</td>\n",
       "      <td>4.908079e+04</td>\n",
       "      <td>9.682979e+03</td>\n",
       "      <td>105.617476</td>\n",
       "      <td>7.036729e+03</td>\n",
       "      <td>9.058924e+03</td>\n",
       "      <td>4.545440e+04</td>\n",
       "    </tr>\n",
       "    <tr>\n",
       "      <th>std</th>\n",
       "      <td>6.190862e+08</td>\n",
       "      <td>1.183391e+06</td>\n",
       "      <td>9.563601e+04</td>\n",
       "      <td>907.185035</td>\n",
       "      <td>7.863975e+04</td>\n",
       "      <td>9.097334e+04</td>\n",
       "      <td>1.152950e+06</td>\n",
       "    </tr>\n",
       "    <tr>\n",
       "      <th>min</th>\n",
       "      <td>5.971000e+03</td>\n",
       "      <td>1.000000e-02</td>\n",
       "      <td>0.000000e+00</td>\n",
       "      <td>0.000000</td>\n",
       "      <td>0.000000e+00</td>\n",
       "      <td>0.000000e+00</td>\n",
       "      <td>1.000000e-02</td>\n",
       "    </tr>\n",
       "    <tr>\n",
       "      <th>25%</th>\n",
       "      <td>5.382635e+08</td>\n",
       "      <td>2.000000e+03</td>\n",
       "      <td>3.000000e+01</td>\n",
       "      <td>2.000000</td>\n",
       "      <td>1.698000e+01</td>\n",
       "      <td>3.100000e+01</td>\n",
       "      <td>2.000000e+03</td>\n",
       "    </tr>\n",
       "    <tr>\n",
       "      <th>50%</th>\n",
       "      <td>1.075276e+09</td>\n",
       "      <td>5.200000e+03</td>\n",
       "      <td>6.200000e+02</td>\n",
       "      <td>12.000000</td>\n",
       "      <td>3.947200e+02</td>\n",
       "      <td>6.243300e+02</td>\n",
       "      <td>5.500000e+03</td>\n",
       "    </tr>\n",
       "    <tr>\n",
       "      <th>75%</th>\n",
       "      <td>1.610149e+09</td>\n",
       "      <td>1.600000e+04</td>\n",
       "      <td>4.076000e+03</td>\n",
       "      <td>56.000000</td>\n",
       "      <td>3.034090e+03</td>\n",
       "      <td>4.050000e+03</td>\n",
       "      <td>1.550000e+04</td>\n",
       "    </tr>\n",
       "    <tr>\n",
       "      <th>max</th>\n",
       "      <td>2.147476e+09</td>\n",
       "      <td>1.000000e+08</td>\n",
       "      <td>2.033899e+07</td>\n",
       "      <td>219382.000000</td>\n",
       "      <td>2.033899e+07</td>\n",
       "      <td>2.033899e+07</td>\n",
       "      <td>1.663614e+08</td>\n",
       "    </tr>\n",
       "  </tbody>\n",
       "</table>\n",
       "</div>"
      ],
      "text/plain": [
       "                 ID          goal       pledged        backers   usd pledged  \\\n",
       "count  3.786610e+05  3.786610e+05  3.786610e+05  378661.000000  3.748640e+05   \n",
       "mean   1.074731e+09  4.908079e+04  9.682979e+03     105.617476  7.036729e+03   \n",
       "std    6.190862e+08  1.183391e+06  9.563601e+04     907.185035  7.863975e+04   \n",
       "min    5.971000e+03  1.000000e-02  0.000000e+00       0.000000  0.000000e+00   \n",
       "25%    5.382635e+08  2.000000e+03  3.000000e+01       2.000000  1.698000e+01   \n",
       "50%    1.075276e+09  5.200000e+03  6.200000e+02      12.000000  3.947200e+02   \n",
       "75%    1.610149e+09  1.600000e+04  4.076000e+03      56.000000  3.034090e+03   \n",
       "max    2.147476e+09  1.000000e+08  2.033899e+07  219382.000000  2.033899e+07   \n",
       "\n",
       "       usd_pledged_real  usd_goal_real  \n",
       "count      3.786610e+05   3.786610e+05  \n",
       "mean       9.058924e+03   4.545440e+04  \n",
       "std        9.097334e+04   1.152950e+06  \n",
       "min        0.000000e+00   1.000000e-02  \n",
       "25%        3.100000e+01   2.000000e+03  \n",
       "50%        6.243300e+02   5.500000e+03  \n",
       "75%        4.050000e+03   1.550000e+04  \n",
       "max        2.033899e+07   1.663614e+08  "
      ]
     },
     "execution_count": 8,
     "metadata": {},
     "output_type": "execute_result"
    }
   ],
   "source": [
    "data.describe()"
   ]
  },
  {
   "cell_type": "markdown",
   "id": "c7d7aca8",
   "metadata": {},
   "source": [
    "# 4. Data Cleaning"
   ]
  },
  {
   "cell_type": "markdown",
   "id": "408c6b0f",
   "metadata": {},
   "source": [
    "#### 4.1 Melihat Persentase  Missing Values"
   ]
  },
  {
   "cell_type": "code",
   "execution_count": 9,
   "id": "528fd780",
   "metadata": {},
   "outputs": [
    {
     "data": {
      "text/plain": [
       "ID                  0.000000\n",
       "name                0.000011\n",
       "category            0.000000\n",
       "main_category       0.000000\n",
       "currency            0.000000\n",
       "deadline            0.000000\n",
       "goal                0.000000\n",
       "launched            0.000000\n",
       "pledged             0.000000\n",
       "state               0.000000\n",
       "backers             0.000000\n",
       "country             0.000000\n",
       "usd pledged         0.010027\n",
       "usd_pledged_real    0.000000\n",
       "usd_goal_real       0.000000\n",
       "dtype: float64"
      ]
     },
     "execution_count": 9,
     "metadata": {},
     "output_type": "execute_result"
    }
   ],
   "source": [
    "# melihat persentase missing data\n",
    "data.isnull().mean()"
   ]
  },
  {
   "cell_type": "code",
   "execution_count": 10,
   "id": "b2a9ceec",
   "metadata": {},
   "outputs": [
    {
     "name": "stdout",
     "output_type": "stream",
     "text": [
      "Persentase Missing Value name: \n",
      "  0.0011\n",
      "Persentase Missing Value usd pledged : \n",
      "  1.0027\n"
     ]
    }
   ],
   "source": [
    "print(\"Persentase Missing Value name: \\n \", 0.000011*100)\n",
    "print(\"Persentase Missing Value usd pledged : \\n \", 0.010027*100)"
   ]
  },
  {
   "cell_type": "markdown",
   "id": "b4e1f518",
   "metadata": {},
   "source": [
    "#### 4.2 melihat apakah Missing Values termasuk Standar Missing Values atau Non-Standar Missing Values\n"
   ]
  },
  {
   "cell_type": "code",
   "execution_count": 11,
   "id": "2b3bf322",
   "metadata": {},
   "outputs": [
    {
     "data": {
      "text/plain": [
       "array(['The Songs of Adelaide & Abullah',\n",
       "       'Greeting From Earth: ZGAC Arts Capsule For ET', 'Where is Hank?',\n",
       "       ...,\n",
       "       'Walls of Remedy- New lesbian Romantic Comedy feature unlike any other!!',\n",
       "       'BioDefense Education Kit', 'Nou Renmen Ayiti!  We Love Haiti!'],\n",
       "      dtype=object)"
      ]
     },
     "execution_count": 11,
     "metadata": {},
     "output_type": "execute_result"
    }
   ],
   "source": [
    "data['name'].unique()"
   ]
  },
  {
   "cell_type": "code",
   "execution_count": 12,
   "id": "3bc622dc",
   "metadata": {},
   "outputs": [
    {
     "data": {
      "text/plain": [
       "array([   0.  ,  100.  ,  220.  , ..., 1732.02, 5019.92, 2698.97])"
      ]
     },
     "execution_count": 12,
     "metadata": {},
     "output_type": "execute_result"
    }
   ],
   "source": [
    "data['usd pledged'].unique()"
   ]
  },
  {
   "cell_type": "markdown",
   "id": "280521f6",
   "metadata": {},
   "source": [
    "#### 4.3 Mengisi Missing Values "
   ]
  },
  {
   "cell_type": "code",
   "execution_count": 13,
   "id": "ad2cd359",
   "metadata": {},
   "outputs": [
    {
     "data": {
      "text/plain": [
       "New EP/Music Development                             41\n",
       "Canceled (Canceled)                                  13\n",
       "Music Video                                          11\n",
       "N/A (Canceled)                                       11\n",
       "New EP / Music Development                           10\n",
       "                                                     ..\n",
       "Traveling Broke and Out of Gas - Third Album!!        1\n",
       "www.wesaveourearth.com / www.donations-app.com        1\n",
       "The Knitting Chicken                                  1\n",
       "Light in the Dark NEPA Photography Book               1\n",
       "Covoiturage Inter-Urbain / Inter-urban Carpooling     1\n",
       "Name: name, Length: 375764, dtype: int64"
      ]
     },
     "execution_count": 13,
     "metadata": {},
     "output_type": "execute_result"
    }
   ],
   "source": [
    "data['name'].value_counts()"
   ]
  },
  {
   "cell_type": "code",
   "execution_count": 14,
   "id": "60bd1942",
   "metadata": {},
   "outputs": [],
   "source": [
    "# mengisi missing values 'name' dengan 'New EP/Music Development'\n",
    "data['name'].fillna('New EP/Music Development', inplace=True)"
   ]
  },
  {
   "cell_type": "markdown",
   "id": "b412677f",
   "metadata": {},
   "source": [
    "missing data dalam variabel data['name'] diisi dengan value yang paling banyak yaitu 'New EP/Music Development'"
   ]
  },
  {
   "cell_type": "code",
   "execution_count": 15,
   "id": "f5555d40",
   "metadata": {},
   "outputs": [
    {
     "data": {
      "text/plain": [
       "394.72"
      ]
     },
     "execution_count": 15,
     "metadata": {},
     "output_type": "execute_result"
    }
   ],
   "source": [
    "# nilai median dari data['usd pledged']\n",
    "data['usd pledged'].quantile([0.50][0])"
   ]
  },
  {
   "cell_type": "code",
   "execution_count": 16,
   "id": "464afa4e",
   "metadata": {},
   "outputs": [],
   "source": [
    "# mengisi missing values 'usd pledged'\n",
    "data['usd pledged'].fillna(394.72, inplace=True)"
   ]
  },
  {
   "cell_type": "markdown",
   "id": "c7f51938",
   "metadata": {},
   "source": [
    "missing data dalam variabel data['usd pledged'] diisi dengan median value yaitu 394.72"
   ]
  },
  {
   "cell_type": "code",
   "execution_count": 17,
   "id": "78dbcf8b",
   "metadata": {},
   "outputs": [
    {
     "data": {
      "text/plain": [
       "ID                  0\n",
       "name                0\n",
       "category            0\n",
       "main_category       0\n",
       "currency            0\n",
       "deadline            0\n",
       "goal                0\n",
       "launched            0\n",
       "pledged             0\n",
       "state               0\n",
       "backers             0\n",
       "country             0\n",
       "usd pledged         0\n",
       "usd_pledged_real    0\n",
       "usd_goal_real       0\n",
       "dtype: int64"
      ]
     },
     "execution_count": 17,
     "metadata": {},
     "output_type": "execute_result"
    }
   ],
   "source": [
    "# melihat jumlah missing data dalam dataset setelah mengisi missing values\n",
    "data.isna().sum()"
   ]
  },
  {
   "cell_type": "markdown",
   "id": "4ccbaf73",
   "metadata": {},
   "source": [
    "#### 4.4 Rename Columns\n",
    "\n",
    "melakukan rename kolom \"state\" menjadi \"statement\""
   ]
  },
  {
   "cell_type": "code",
   "execution_count": 18,
   "id": "c27cd188",
   "metadata": {},
   "outputs": [],
   "source": [
    "data = data.rename(\n",
    "  columns={'state': \"launch_status\"}\n",
    ")"
   ]
  },
  {
   "cell_type": "markdown",
   "id": "716b87ab",
   "metadata": {},
   "source": [
    "#### 4.5 Membuat columns baru\n",
    "\n",
    "variabel pledged_goal adalah variabel usd_pledged_real dikurangi dengan variabel usd_goal_real, yang fungsinya untuk melihat selisih antara nilai yang direncanakan (usd_goal_real) dengan nilai yang dijaminkan (usd_pledged_real)"
   ]
  },
  {
   "cell_type": "code",
   "execution_count": 19,
   "id": "0958b609",
   "metadata": {},
   "outputs": [],
   "source": [
    "data[\"pledged_goal\"] = data[\"usd_pledged_real\"] - data[\"usd_goal_real\"]"
   ]
  },
  {
   "cell_type": "markdown",
   "id": "56dfe5de",
   "metadata": {},
   "source": [
    "#### 4.6 Merubah format datatime\n",
    "\n",
    "Merubah format time dan membuat column baru yaitu column 'month_deadline' dan 'year_deadline'"
   ]
  },
  {
   "cell_type": "code",
   "execution_count": 20,
   "id": "ab9520de",
   "metadata": {},
   "outputs": [],
   "source": [
    "data['deadline'] = pd.to_datetime(data['deadline'])\n",
    "data['month_deadline'] = data['deadline'].dt.month\n",
    "data['year_deadline'] = data['deadline'].dt.year"
   ]
  },
  {
   "cell_type": "markdown",
   "id": "0fe96bc2",
   "metadata": {},
   "source": [
    "# 5. Explorasi Data"
   ]
  },
  {
   "cell_type": "code",
   "execution_count": 21,
   "id": "f6652707",
   "metadata": {
    "scrolled": false
   },
   "outputs": [
    {
     "data": {
      "text/html": [
       "<div>\n",
       "<style scoped>\n",
       "    .dataframe tbody tr th:only-of-type {\n",
       "        vertical-align: middle;\n",
       "    }\n",
       "\n",
       "    .dataframe tbody tr th {\n",
       "        vertical-align: top;\n",
       "    }\n",
       "\n",
       "    .dataframe thead th {\n",
       "        text-align: right;\n",
       "    }\n",
       "</style>\n",
       "<table border=\"1\" class=\"dataframe\">\n",
       "  <thead>\n",
       "    <tr style=\"text-align: right;\">\n",
       "      <th></th>\n",
       "      <th>ID</th>\n",
       "      <th>name</th>\n",
       "      <th>category</th>\n",
       "      <th>main_category</th>\n",
       "      <th>currency</th>\n",
       "      <th>deadline</th>\n",
       "      <th>goal</th>\n",
       "      <th>launched</th>\n",
       "      <th>pledged</th>\n",
       "      <th>launch_status</th>\n",
       "      <th>backers</th>\n",
       "      <th>country</th>\n",
       "      <th>usd pledged</th>\n",
       "      <th>usd_pledged_real</th>\n",
       "      <th>usd_goal_real</th>\n",
       "      <th>pledged_goal</th>\n",
       "      <th>month_deadline</th>\n",
       "      <th>year_deadline</th>\n",
       "    </tr>\n",
       "  </thead>\n",
       "  <tbody>\n",
       "    <tr>\n",
       "      <th>0</th>\n",
       "      <td>1000002330</td>\n",
       "      <td>The Songs of Adelaide &amp; Abullah</td>\n",
       "      <td>Poetry</td>\n",
       "      <td>Publishing</td>\n",
       "      <td>GBP</td>\n",
       "      <td>2015-10-09</td>\n",
       "      <td>1000.0</td>\n",
       "      <td>2015-08-11 12:12:28</td>\n",
       "      <td>0.0</td>\n",
       "      <td>failed</td>\n",
       "      <td>0</td>\n",
       "      <td>GB</td>\n",
       "      <td>0.0</td>\n",
       "      <td>0.0</td>\n",
       "      <td>1533.95</td>\n",
       "      <td>-1533.95</td>\n",
       "      <td>10</td>\n",
       "      <td>2015</td>\n",
       "    </tr>\n",
       "    <tr>\n",
       "      <th>1</th>\n",
       "      <td>1000003930</td>\n",
       "      <td>Greeting From Earth: ZGAC Arts Capsule For ET</td>\n",
       "      <td>Narrative Film</td>\n",
       "      <td>Film &amp; Video</td>\n",
       "      <td>USD</td>\n",
       "      <td>2017-11-01</td>\n",
       "      <td>30000.0</td>\n",
       "      <td>2017-09-02 04:43:57</td>\n",
       "      <td>2421.0</td>\n",
       "      <td>failed</td>\n",
       "      <td>15</td>\n",
       "      <td>US</td>\n",
       "      <td>100.0</td>\n",
       "      <td>2421.0</td>\n",
       "      <td>30000.00</td>\n",
       "      <td>-27579.00</td>\n",
       "      <td>11</td>\n",
       "      <td>2017</td>\n",
       "    </tr>\n",
       "    <tr>\n",
       "      <th>2</th>\n",
       "      <td>1000004038</td>\n",
       "      <td>Where is Hank?</td>\n",
       "      <td>Narrative Film</td>\n",
       "      <td>Film &amp; Video</td>\n",
       "      <td>USD</td>\n",
       "      <td>2013-02-26</td>\n",
       "      <td>45000.0</td>\n",
       "      <td>2013-01-12 00:20:50</td>\n",
       "      <td>220.0</td>\n",
       "      <td>failed</td>\n",
       "      <td>3</td>\n",
       "      <td>US</td>\n",
       "      <td>220.0</td>\n",
       "      <td>220.0</td>\n",
       "      <td>45000.00</td>\n",
       "      <td>-44780.00</td>\n",
       "      <td>2</td>\n",
       "      <td>2013</td>\n",
       "    </tr>\n",
       "    <tr>\n",
       "      <th>3</th>\n",
       "      <td>1000007540</td>\n",
       "      <td>ToshiCapital Rekordz Needs Help to Complete Album</td>\n",
       "      <td>Music</td>\n",
       "      <td>Music</td>\n",
       "      <td>USD</td>\n",
       "      <td>2012-04-16</td>\n",
       "      <td>5000.0</td>\n",
       "      <td>2012-03-17 03:24:11</td>\n",
       "      <td>1.0</td>\n",
       "      <td>failed</td>\n",
       "      <td>1</td>\n",
       "      <td>US</td>\n",
       "      <td>1.0</td>\n",
       "      <td>1.0</td>\n",
       "      <td>5000.00</td>\n",
       "      <td>-4999.00</td>\n",
       "      <td>4</td>\n",
       "      <td>2012</td>\n",
       "    </tr>\n",
       "    <tr>\n",
       "      <th>4</th>\n",
       "      <td>1000011046</td>\n",
       "      <td>Community Film Project: The Art of Neighborhoo...</td>\n",
       "      <td>Film &amp; Video</td>\n",
       "      <td>Film &amp; Video</td>\n",
       "      <td>USD</td>\n",
       "      <td>2015-08-29</td>\n",
       "      <td>19500.0</td>\n",
       "      <td>2015-07-04 08:35:03</td>\n",
       "      <td>1283.0</td>\n",
       "      <td>canceled</td>\n",
       "      <td>14</td>\n",
       "      <td>US</td>\n",
       "      <td>1283.0</td>\n",
       "      <td>1283.0</td>\n",
       "      <td>19500.00</td>\n",
       "      <td>-18217.00</td>\n",
       "      <td>8</td>\n",
       "      <td>2015</td>\n",
       "    </tr>\n",
       "  </tbody>\n",
       "</table>\n",
       "</div>"
      ],
      "text/plain": [
       "           ID                                               name  \\\n",
       "0  1000002330                    The Songs of Adelaide & Abullah   \n",
       "1  1000003930      Greeting From Earth: ZGAC Arts Capsule For ET   \n",
       "2  1000004038                                     Where is Hank?   \n",
       "3  1000007540  ToshiCapital Rekordz Needs Help to Complete Album   \n",
       "4  1000011046  Community Film Project: The Art of Neighborhoo...   \n",
       "\n",
       "         category main_category currency   deadline     goal  \\\n",
       "0          Poetry    Publishing      GBP 2015-10-09   1000.0   \n",
       "1  Narrative Film  Film & Video      USD 2017-11-01  30000.0   \n",
       "2  Narrative Film  Film & Video      USD 2013-02-26  45000.0   \n",
       "3           Music         Music      USD 2012-04-16   5000.0   \n",
       "4    Film & Video  Film & Video      USD 2015-08-29  19500.0   \n",
       "\n",
       "              launched  pledged launch_status  backers country  usd pledged  \\\n",
       "0  2015-08-11 12:12:28      0.0        failed        0      GB          0.0   \n",
       "1  2017-09-02 04:43:57   2421.0        failed       15      US        100.0   \n",
       "2  2013-01-12 00:20:50    220.0        failed        3      US        220.0   \n",
       "3  2012-03-17 03:24:11      1.0        failed        1      US          1.0   \n",
       "4  2015-07-04 08:35:03   1283.0      canceled       14      US       1283.0   \n",
       "\n",
       "   usd_pledged_real  usd_goal_real  pledged_goal  month_deadline  \\\n",
       "0               0.0        1533.95      -1533.95              10   \n",
       "1            2421.0       30000.00     -27579.00              11   \n",
       "2             220.0       45000.00     -44780.00               2   \n",
       "3               1.0        5000.00      -4999.00               4   \n",
       "4            1283.0       19500.00     -18217.00               8   \n",
       "\n",
       "   year_deadline  \n",
       "0           2015  \n",
       "1           2017  \n",
       "2           2013  \n",
       "3           2012  \n",
       "4           2015  "
      ]
     },
     "execution_count": 21,
     "metadata": {},
     "output_type": "execute_result"
    }
   ],
   "source": [
    "data.head()"
   ]
  },
  {
   "cell_type": "markdown",
   "id": "9f96cae0",
   "metadata": {},
   "source": [
    "#### 5.1 Query\n",
    "\n",
    "Dalam melakukan Explorasi data ini akan melihat variabel statement dan membuat query baru berdasarkan variabel statement yaitu 'failed', 'canceled', 'successful', 'live', 'undefined', 'suspended'"
   ]
  },
  {
   "cell_type": "code",
   "execution_count": 22,
   "id": "41e303ff",
   "metadata": {},
   "outputs": [
    {
     "data": {
      "text/plain": [
       "array(['failed', 'canceled', 'successful', 'live', 'undefined',\n",
       "       'suspended'], dtype=object)"
      ]
     },
     "execution_count": 22,
     "metadata": {},
     "output_type": "execute_result"
    }
   ],
   "source": [
    "data.launch_status.unique()"
   ]
  },
  {
   "cell_type": "code",
   "execution_count": 23,
   "id": "a0f8a100",
   "metadata": {},
   "outputs": [],
   "source": [
    "# membuat query failed\n",
    "failed = data[data.launch_status == 'failed']"
   ]
  },
  {
   "cell_type": "code",
   "execution_count": 24,
   "id": "a55f2137",
   "metadata": {},
   "outputs": [],
   "source": [
    "# membuat query canceled\n",
    "canceled = data[data.launch_status == 'canceled']"
   ]
  },
  {
   "cell_type": "code",
   "execution_count": 25,
   "id": "e357b5d9",
   "metadata": {},
   "outputs": [],
   "source": [
    "# membuat query successfull\n",
    "successful = data[data.launch_status == 'successful']"
   ]
  },
  {
   "cell_type": "code",
   "execution_count": 26,
   "id": "963f1bbc",
   "metadata": {},
   "outputs": [],
   "source": [
    "# membuat query live\n",
    "live = data[data.launch_status == 'live']"
   ]
  },
  {
   "cell_type": "code",
   "execution_count": 27,
   "id": "0c87de74",
   "metadata": {},
   "outputs": [],
   "source": [
    "# membuat query undefined\n",
    "undefined = data[data.launch_status == 'undefined']"
   ]
  },
  {
   "cell_type": "code",
   "execution_count": 28,
   "id": "d4ddcf26",
   "metadata": {},
   "outputs": [],
   "source": [
    "# membuat query suspended\n",
    "suspended = data[data.launch_status == 'suspended']"
   ]
  },
  {
   "cell_type": "markdown",
   "id": "950a8251",
   "metadata": {},
   "source": [
    "#### Menghitung nilai rata-rata (Mean) dari pledged_goal "
   ]
  },
  {
   "cell_type": "code",
   "execution_count": 29,
   "id": "91c2082a",
   "metadata": {},
   "outputs": [
    {
     "name": "stdout",
     "output_type": "stream",
     "text": [
      "nilai failed mean: \n",
      " -61854.13840526062\n"
     ]
    }
   ],
   "source": [
    "failed_mean = failed[\"pledged_goal\"].mean()\n",
    "print(\"nilai failed mean: \\n\", failed_mean)"
   ]
  },
  {
   "cell_type": "code",
   "execution_count": 30,
   "id": "16cce47a",
   "metadata": {},
   "outputs": [
    {
     "name": "stdout",
     "output_type": "stream",
     "text": [
      "nilai canceled mean: \n",
      " -73238.89371489763\n"
     ]
    }
   ],
   "source": [
    "canceled_mean = canceled[\"pledged_goal\"].mean()\n",
    "print(\"nilai canceled mean: \\n\", canceled_mean)"
   ]
  },
  {
   "cell_type": "code",
   "execution_count": 31,
   "id": "f22ffcfe",
   "metadata": {},
   "outputs": [
    {
     "name": "stdout",
     "output_type": "stream",
     "text": [
      "nilai successful mean: \n",
      " 13137.94187397351\n"
     ]
    }
   ],
   "source": [
    "successful_mean = successful[\"pledged_goal\"].mean()\n",
    "print(\"nilai successful mean: \\n\", successful_mean)"
   ]
  },
  {
   "cell_type": "code",
   "execution_count": 32,
   "id": "bc4ef07d",
   "metadata": {},
   "outputs": [
    {
     "name": "stdout",
     "output_type": "stream",
     "text": [
      "nilai live mean: \n",
      " -56666.114062165085\n"
     ]
    }
   ],
   "source": [
    "live_mean = live[\"pledged_goal\"].mean()\n",
    "print(\"nilai live mean: \\n\", live_mean)"
   ]
  },
  {
   "cell_type": "code",
   "execution_count": 33,
   "id": "15af7915",
   "metadata": {},
   "outputs": [
    {
     "name": "stdout",
     "output_type": "stream",
     "text": [
      "nilai undefined mean: \n",
      " -1890.1668023582263\n"
     ]
    }
   ],
   "source": [
    "undefined_mean = undefined[\"pledged_goal\"].mean()\n",
    "print(\"nilai undefined mean: \\n\", undefined_mean)"
   ]
  },
  {
   "cell_type": "code",
   "execution_count": 34,
   "id": "06dc5150",
   "metadata": {},
   "outputs": [
    {
     "name": "stdout",
     "output_type": "stream",
     "text": [
      "nilai suspended mean: \n",
      " -165895.62731310935\n"
     ]
    }
   ],
   "source": [
    "suspended_mean = suspended[\"pledged_goal\"].mean()\n",
    "print(\"nilai suspended mean: \\n\", suspended_mean)"
   ]
  },
  {
   "cell_type": "code",
   "execution_count": 35,
   "id": "2a4c738a",
   "metadata": {},
   "outputs": [],
   "source": [
    "# make plot \n",
    "pledged_goal_analisis = {\"failed\": failed_mean,\n",
    "                         \"canceled\": canceled_mean,\n",
    "                         \"live\": live_mean,\n",
    "                         \"undefined\": undefined_mean,\n",
    "                         \"suspended\": suspended_mean,\n",
    "                         \"successful\": successful_mean\n",
    "                        }"
   ]
  },
  {
   "cell_type": "code",
   "execution_count": 36,
   "id": "a279c8c4",
   "metadata": {},
   "outputs": [
    {
     "data": {
      "image/png": "[encoded data removed]",
      "text/plain": [
       "<Figure size 1080x720 with 1 Axes>"
      ]
     },
     "metadata": {
      "needs_background": "light"
     },
     "output_type": "display_data"
    }
   ],
   "source": [
    "# setup plot\n",
    "fig, ax = plt.subplots(figsize=(15,10))\n",
    "\n",
    "# plot data\n",
    "ax.bar(pledged_goal_analisis.keys(), pledged_goal_analisis.values());\n",
    "\n",
    "# customize plot\n",
    "ax.set(title=\"Pledge analisis\",\n",
    "       xlabel=\"Launch Status\",\n",
    "       ylabel=\"USD\"\n",
    "      );"
   ]
  },
  {
   "cell_type": "markdown",
   "id": "a6336dc4",
   "metadata": {},
   "source": [
    "Dari hasil Plotting terlihat bahwa ada kemungkinan nilai variabel usd_pledged_real sangat berpengaruh terdapat status peluncuran atau variabel launch dari suatu produk, oleh karena itu kita akan melakukan Hypothesis testing untuk melihat **apakah adanya atau tidaknya hubungan yang signifikan antara variabel launch dan usd_pledged_real.**"
   ]
  },
  {
   "cell_type": "markdown",
   "id": "d3a2e4ed",
   "metadata": {},
   "source": [
    "# 6. Measure of Central Tendency"
   ]
  },
  {
   "cell_type": "code",
   "execution_count": 37,
   "id": "adea292f",
   "metadata": {},
   "outputs": [],
   "source": [
    "# membuat variabel pledged_real\n",
    "pledged_real = data.usd_pledged_real"
   ]
  },
  {
   "cell_type": "markdown",
   "id": "c938f4c7",
   "metadata": {},
   "source": [
    "#### Mean pledged_real"
   ]
  },
  {
   "cell_type": "code",
   "execution_count": 38,
   "id": "a82dba15",
   "metadata": {},
   "outputs": [
    {
     "name": "stdout",
     "output_type": "stream",
     "text": [
      "Mean pledged real: \n",
      " 9058.924074119337\n"
     ]
    }
   ],
   "source": [
    "mean = pledged_real.mean()\n",
    "print(\"Mean pledged real: \\n\", mean)"
   ]
  },
  {
   "cell_type": "markdown",
   "id": "eb0587b7",
   "metadata": {},
   "source": [
    "#### Median pledged_real"
   ]
  },
  {
   "cell_type": "code",
   "execution_count": 39,
   "id": "263a6bb3",
   "metadata": {},
   "outputs": [
    {
     "name": "stdout",
     "output_type": "stream",
     "text": [
      "Median pledged real: \n",
      " 624.33\n"
     ]
    }
   ],
   "source": [
    "median = pledged_real.median()\n",
    "print(\"Median pledged real: \\n\", median)"
   ]
  },
  {
   "cell_type": "markdown",
   "id": "f52dc639",
   "metadata": {},
   "source": [
    "#### Modus pledged_real"
   ]
  },
  {
   "cell_type": "code",
   "execution_count": 40,
   "id": "06db5ac3",
   "metadata": {},
   "outputs": [
    {
     "name": "stdout",
     "output_type": "stream",
     "text": [
      "Modus pledge real: \n",
      " 0.0\n"
     ]
    }
   ],
   "source": [
    "modus = pledged_real.mode()[0]\n",
    "print(\"Modus pledge real: \\n\", modus)"
   ]
  },
  {
   "cell_type": "markdown",
   "id": "0d983e82",
   "metadata": {},
   "source": [
    "# 7. Measure Of Variance"
   ]
  },
  {
   "cell_type": "markdown",
   "id": "1f7770e4",
   "metadata": {},
   "source": [
    "#### Range pledged_real"
   ]
  },
  {
   "cell_type": "code",
   "execution_count": 41,
   "id": "62008754",
   "metadata": {},
   "outputs": [
    {
     "name": "stdout",
     "output_type": "stream",
     "text": [
      "Range pledged_real: \n",
      " 20338986.27\n"
     ]
    }
   ],
   "source": [
    "range = pledged_real.max() - pledged_real.min()\n",
    "print(\"Range pledged_real: \\n\", range)"
   ]
  },
  {
   "cell_type": "markdown",
   "id": "515b444f",
   "metadata": {},
   "source": [
    "#### Variance pledged_real"
   ]
  },
  {
   "cell_type": "code",
   "execution_count": 42,
   "id": "a1d547f4",
   "metadata": {},
   "outputs": [
    {
     "name": "stdout",
     "output_type": "stream",
     "text": [
      "Variance pledged_real: \n",
      " 8276149156.121636\n"
     ]
    }
   ],
   "source": [
    "variance = pledged_real.var()\n",
    "print(\"Variance pledged_real: \\n\", variance)"
   ]
  },
  {
   "cell_type": "markdown",
   "id": "b1146624",
   "metadata": {},
   "source": [
    "#### Standar Deviasi pledged_real"
   ]
  },
  {
   "cell_type": "code",
   "execution_count": 43,
   "id": "668f754a",
   "metadata": {},
   "outputs": [
    {
     "name": "stdout",
     "output_type": "stream",
     "text": [
      "Standar Deviasi pledged_real: \n",
      " 90973.34310731708\n"
     ]
    }
   ],
   "source": [
    "standar = pledged_real.std()\n",
    "print(\"Standar Deviasi pledged_real: \\n\", standar)"
   ]
  },
  {
   "cell_type": "markdown",
   "id": "3734175c",
   "metadata": {},
   "source": [
    "#### Confidence Interval pledged_real\n",
    "\n",
    "Confidence Interval ditetapkan sebesar 95% dengan Critical Value 5%"
   ]
  },
  {
   "cell_type": "code",
   "execution_count": 44,
   "id": "83b0454a",
   "metadata": {},
   "outputs": [
    {
     "name": "stdout",
     "output_type": "stream",
     "text": [
      "Confidence Interval pledged_real: \n",
      " (-169245.55196942732, 187363.400117666)\n"
     ]
    }
   ],
   "source": [
    "ci = stats.norm.interval(0.95, mean, standar)\n",
    "print(\"Confidence Interval pledged_real: \\n\", ci)"
   ]
  },
  {
   "cell_type": "markdown",
   "id": "58c6292c",
   "metadata": {},
   "source": [
    "# 8. Hypothesis Testing\n",
    "\n",
    "Dalam melakukan Hypothesis Testing, menggunakan metode Chi-Square Test karena variabel yang akan dilakukan pengujian adalah variabel kategorikal yaitu variabel launch\n",
    "\n",
    "Dalam analisa hypothesis testing kita ingin menguji **apakah adanya atau tidaknya hubungan yang signifikan antara variabel launch dan usd_pledged_real**, sehingga kita dapat menyatakan Hypothesis sebagai berikut:\n",
    "\n",
    "* Hypothesis Null(H0) adalah adanya kemungkinan hubungan yang signifikan antara variabel launch dan usd_pledged_real,\n",
    "* Hypothesis alternatif(H1) adalah tidaknya kemungkinan hubungan yang signifikan antara variabel launch dan usd_pledged_real\n",
    "\n",
    "Kriteria Pengujian Hypothesis adalah:\n",
    "\n",
    "* H0 diterima, apabila uji statistik berada diluar nilai kritis;\n",
    "* H0 ditolak, apabila uji statistik berada di dalam nilai kritis\n",
    "\n",
    "dalam analisa ini kita juga menetapkan Confidence Interval sebesar 95% dengan Critical Value sebesar 5%"
   ]
  },
  {
   "cell_type": "code",
   "execution_count": 45,
   "id": "329964d6",
   "metadata": {},
   "outputs": [
    {
     "name": "stdout",
     "output_type": "stream",
     "text": [
      "Observed Values: \n",
      " [[12025     0     0 ...     0     0     0]\n",
      " [38656     1     1 ...     0     0     0]\n",
      " [  549     0     0 ...     0     0     0]\n",
      " [    0     0     0 ...     1     1     1]\n",
      " [  614     0     0 ...     0     0     0]\n",
      " [  683     0     0 ...     0     0     0]]\n",
      "\n",
      "\n",
      "Expected Values: \n",
      " [[5.37933543e+03 1.02410864e-01 1.02410864e-01 ... 1.02410864e-01\n",
      "  1.02410864e-01 1.02410864e-01]\n",
      " [2.74271338e+04 5.22153060e-01 5.22153060e-01 ... 5.22153060e-01\n",
      "  5.22153060e-01 5.22153060e-01]\n",
      " [3.88270968e+02 7.39183597e-03 7.39183597e-03 ... 7.39183597e-03\n",
      "  7.39183597e-03 7.39183597e-03]\n",
      " [1.85820742e+04 3.53762336e-01 3.53762336e-01 ... 3.53762336e-01\n",
      "  3.53762336e-01 3.53762336e-01]\n",
      " [2.56072957e+02 4.87507295e-03 4.87507295e-03 ... 4.87507295e-03\n",
      "  4.87507295e-03 4.87507295e-03]\n",
      " [4.94112607e+02 9.40683091e-03 9.40683091e-03 ... 9.40683091e-03\n",
      "  9.40683091e-03 9.40683091e-03]]\n",
      "\n",
      "\n",
      "Degree of Freedom: \n",
      " 530320\n",
      "\n",
      "\n",
      "Chi-square: \n",
      " [3.20283851e+04 9.15147254e-01 9.15147254e-01 ... 1.82675655e+00\n",
      " 1.82675655e+00 1.82675655e+00]\n",
      "\n",
      "\n",
      "Chi-square statistic: \n",
      " 32029.300288662464\n",
      "\n",
      "\n",
      "P Value: \n",
      " 1.0\n",
      "\n",
      "\n",
      "Confidence Interval: \n",
      " 0.95\n",
      "\n",
      "\n",
      "Nilai kritis (alpha): \n",
      " 0.05\n",
      "\n",
      "\n",
      "Hasil Hypothesis Testing: \n",
      "\n",
      "Hypothesis (H0) diterima, adanya kemungkinan hubungan yang signifikan antara variabel launch dan usd_pledged_real\n"
     ]
    }
   ],
   "source": [
    "# membuat variabel dataset_tabel\n",
    "dataset_table = pd.crosstab(data['launch_status'],data['usd_pledged_real'])\n",
    "\n",
    "# membuat observed_values\n",
    "observed_values = dataset_table.values\n",
    "print(\"Observed Values: \\n\", observed_values)\n",
    "print(\"\\n\")\n",
    "\n",
    "# membuat fungsi menghitung statistik chi-kuadrat dan nilai-p untuk uji hipotesis independensi frekuensi yang diamati \n",
    "val = stats.chi2_contingency(dataset_table)\n",
    "\n",
    "# menentukan expected values\n",
    "expected_values = val[3]\n",
    "print(\"Expected Values: \\n\", expected_values)\n",
    "print(\"\\n\")\n",
    "\n",
    "# menentukan panjang coloumns dan rows\n",
    "no_of_rows=len(dataset_table.iloc[0:,0]) #(rows,)\n",
    "no_of_columns=len(dataset_table.iloc[0, 0:]) #(,columns)\n",
    "\n",
    "# mencari degree of freedom\n",
    "ddof = (no_of_rows - 1)*(no_of_columns-1)\n",
    "print(\"Degree of Freedom: \\n\", ddof)\n",
    "print(\"\\n\")\n",
    "\n",
    "# chi_square testing\n",
    "chi_square=sum([(o-e)**2./e for o,e in zip(observed_values,expected_values)])\n",
    "\n",
    "# menjumlahkan nilai chi_quare_statistic\n",
    "chi_square_statistic = chi_square[0]+chi_square[1]\n",
    "print('Chi-square: \\n', chi_square)\n",
    "print(\"\\n\")\n",
    "print('Chi-square statistic: \\n', chi_square_statistic)\n",
    "print(\"\\n\")\n",
    "\n",
    "# p-value\n",
    "p_value= 1-chi2.cdf(x=chi_square_statistic, df=ddof)\n",
    "print('P Value: \\n', p_value)\n",
    "print(\"\\n\")\n",
    "\n",
    "# Confidence Interval\n",
    "confidence_interval = 0.95\n",
    "print('Confidence Interval: \\n', confidence_interval)\n",
    "print(\"\\n\")\n",
    "\n",
    "# alpha\n",
    "alpha = 0.05\n",
    "print('Nilai kritis (alpha): \\n', alpha)\n",
    "print(\"\\n\")\n",
    "\n",
    "# Menentukan hasil Hypothesis Testing\n",
    "print(\"Hasil Hypothesis Testing: \\n\")\n",
    "if p_value < alpha :\n",
    "    print(\"Hypothesis (H0) ditolak, tidak adanya kemungkinan hubungan yang signifikan antara variabel launch dan usd_pledged_real\")\n",
    "else:\n",
    "    print(\"Hypothesis (H0) diterima, adanya kemungkinan hubungan yang signifikan antara variabel launch dan usd_pledged_real\")"
   ]
  },
  {
   "cell_type": "markdown",
   "id": "e1626a44",
   "metadata": {},
   "source": [
    "# 9. Pengambilan Kesimpulan"
   ]
  },
  {
   "cell_type": "markdown",
   "id": "9b227c85",
   "metadata": {},
   "source": [
    "Dasar dari penetapan Hypothesis dalam Hypothesis testing adalah dengan melakukan plotting bar pledged_goal yang dihasilkan dari \"usd_pledged_real\" dikurangi \"usd_goal_real\" terhadap status launch dari produk, dari hasil Plotting terlihat bahwa ada kemungkinan nilai variabel usd_pledged_real sangat berpengaruh terdapat status peluncuran atau variabel launch dari suatu produk, oleh karena itu kita akan melakukan Hypothesis testing untuk melihat **apakah adanya atau tidaknya hubungan yang signifikan antara variabel launch dan usd_pledged_real**\n",
    "\n",
    "\n",
    "Dari hasil Hypothesis Testing untuk menganalisa apakah adanya atau tidaknya hubungan yang signifikan antara variabel launch dan usd_pledged_real, sehingga kita dapat menyatakan Hypothesis sebagai berikut:\n",
    "\n",
    "* Hypothesis Null(H0) adalah adanya kemungkinan hubungan yang signifikan antara variabel launch dan usd_pledged_real,\n",
    "* Hypothesis alternatif(H1) adalah tidaknya kemungkinan hubungan yang signifikan antara variabel launch dan usd_pledged_real\n",
    "\n",
    "Kriteria Pengujian Hypothesis adalah:\n",
    "\n",
    "* H0 diterima, apabila uji statistik berada diluar nilai kritis;\n",
    "* H0 ditolak, apabila uji statistik berada di dalam nilai kritis\n",
    "\n",
    "Dalam analisa ini kita juga menetapkan:\n",
    "* Menggunakan metode Chi-Square Test karena variabel yang akan dilakukan pengujian adalah variabel kategorikal yaitu variabel launch    \n",
    "* Confidence Interval sebesar 95% dengan Critical Value sebesar 5%\n",
    "\n",
    "Dari Hasil Hypotesis Testing di peroleh hasil dan kesimpulan sebagai berikut:\n",
    "\n",
    "* **Hypothesis (H0) diterima**, sehingga dapat disimpulkan **adanya kemungkinan hubungan yang signifikan antara variabel launch dan usd_pledged_real**\n",
    "* Hypothesis (H0) diterima karena nilai uji statistik (p_value) sebesar 1 lebih besar dari nilai Critical Value sebesar 5%"
   ]
  },
  {
   "cell_type": "code",
   "execution_count": null,
   "id": "50558a72",
   "metadata": {},
   "outputs": [],
   "source": []
  }
 ],
 "metadata": {
  "kernelspec": {
   "display_name": "Python 3",
   "language": "python",
   "name": "python3"
  },
  "language_info": {
   "codemirror_mode": {
    "name": "ipython",
    "version": 3
   },
   "file_extension": ".py",
   "mimetype": "text/x-python",
   "name": "python",
   "nbconvert_exporter": "python",
   "pygments_lexer": "ipython3",
   "version": "3.8.5"
  }
 },
 "nbformat": 4,
 "nbformat_minor": 5
}
